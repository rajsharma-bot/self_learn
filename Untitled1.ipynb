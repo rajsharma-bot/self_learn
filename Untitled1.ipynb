{
 "cells": [
  {
   "cell_type": "code",
   "execution_count": 2,
   "id": "e4a6e3d2",
   "metadata": {},
   "outputs": [],
   "source": [
    "a=10\n",
    "b='Raj'\n",
    "c=20.5"
   ]
  },
  {
   "cell_type": "code",
   "execution_count": 3,
   "id": "c873b5e6",
   "metadata": {
    "scrolled": true
   },
   "outputs": [
    {
     "name": "stdout",
     "output_type": "stream",
     "text": [
      "10\n",
      "Raj\n",
      "20.5\n"
     ]
    }
   ],
   "source": [
    "print(a)\n",
    "print(b)\n",
    "print(c)"
   ]
  },
  {
   "cell_type": "code",
   "execution_count": 5,
   "id": "f7cb0a6d",
   "metadata": {
    "collapsed": true
   },
   "outputs": [
    {
     "name": "stdout",
     "output_type": "stream",
     "text": [
      "Requirement already satisfied: nb_black in c:\\programdata\\anaconda3\\lib\\site-packages (1.0.7)\n",
      "Requirement already satisfied: black>='19.3' in c:\\programdata\\anaconda3\\lib\\site-packages (from nb_black) (19.10b0)\n",
      "Requirement already satisfied: ipython in c:\\users\\rajsh\\appdata\\roaming\\python\\python39\\site-packages (from nb_black) (8.1.0)\n",
      "Requirement already satisfied: click>=6.5 in c:\\programdata\\anaconda3\\lib\\site-packages (from black>='19.3'->nb_black) (8.0.3)\n",
      "Requirement already satisfied: toml>=0.9.4 in c:\\programdata\\anaconda3\\lib\\site-packages (from black>='19.3'->nb_black) (0.10.2)\n",
      "Requirement already satisfied: regex in c:\\programdata\\anaconda3\\lib\\site-packages (from black>='19.3'->nb_black) (2021.8.3)\n",
      "Requirement already satisfied: typed-ast>=1.4.0 in c:\\programdata\\anaconda3\\lib\\site-packages (from black>='19.3'->nb_black) (1.4.3)\n",
      "Requirement already satisfied: pathspec<1,>=0.6 in c:\\programdata\\anaconda3\\lib\\site-packages (from black>='19.3'->nb_black) (0.7.0)\n",
      "Requirement already satisfied: appdirs in c:\\programdata\\anaconda3\\lib\\site-packages (from black>='19.3'->nb_black) (1.4.4)\n",
      "Requirement already satisfied: attrs>=18.1.0 in c:\\users\\rajsh\\appdata\\roaming\\python\\python39\\site-packages (from black>='19.3'->nb_black) (21.4.0)\n",
      "Requirement already satisfied: setuptools>=18.5 in c:\\programdata\\anaconda3\\lib\\site-packages (from ipython->nb_black) (58.0.4)\n",
      "Requirement already satisfied: pickleshare in c:\\users\\rajsh\\appdata\\roaming\\python\\python39\\site-packages (from ipython->nb_black) (0.7.5)\n",
      "Requirement already satisfied: stack-data in c:\\users\\rajsh\\appdata\\roaming\\python\\python39\\site-packages (from ipython->nb_black) (0.2.0)\n",
      "Requirement already satisfied: backcall in c:\\users\\rajsh\\appdata\\roaming\\python\\python39\\site-packages (from ipython->nb_black) (0.2.0)\n",
      "Requirement already satisfied: prompt-toolkit!=3.0.0,!=3.0.1,<3.1.0,>=2.0.0 in c:\\users\\rajsh\\appdata\\roaming\\python\\python39\\site-packages (from ipython->nb_black) (3.0.28)\n",
      "Requirement already satisfied: traitlets>=5 in c:\\users\\rajsh\\appdata\\roaming\\python\\python39\\site-packages (from ipython->nb_black) (5.1.1)\n",
      "Requirement already satisfied: jedi>=0.16 in c:\\users\\rajsh\\appdata\\roaming\\python\\python39\\site-packages (from ipython->nb_black) (0.18.1)\n",
      "Requirement already satisfied: pygments>=2.4.0 in c:\\users\\rajsh\\appdata\\roaming\\python\\python39\\site-packages (from ipython->nb_black) (2.11.2)\n",
      "Requirement already satisfied: matplotlib-inline in c:\\users\\rajsh\\appdata\\roaming\\python\\python39\\site-packages (from ipython->nb_black) (0.1.3)\n",
      "Requirement already satisfied: decorator in c:\\users\\rajsh\\appdata\\roaming\\python\\python39\\site-packages (from ipython->nb_black) (5.1.1)\n",
      "Requirement already satisfied: colorama in c:\\users\\rajsh\\appdata\\roaming\\python\\python39\\site-packages (from ipython->nb_black) (0.4.4)\n",
      "Requirement already satisfied: parso<0.9.0,>=0.8.0 in c:\\users\\rajsh\\appdata\\roaming\\python\\python39\\site-packages (from jedi>=0.16->ipython->nb_black) (0.8.3)\n",
      "Requirement already satisfied: wcwidth in c:\\users\\rajsh\\appdata\\roaming\\python\\python39\\site-packages (from prompt-toolkit!=3.0.0,!=3.0.1,<3.1.0,>=2.0.0->ipython->nb_black) (0.2.5)\n",
      "Requirement already satisfied: asttokens in c:\\users\\rajsh\\appdata\\roaming\\python\\python39\\site-packages (from stack-data->ipython->nb_black) (2.0.5)\n",
      "Requirement already satisfied: executing in c:\\users\\rajsh\\appdata\\roaming\\python\\python39\\site-packages (from stack-data->ipython->nb_black) (0.8.2)\n",
      "Requirement already satisfied: pure-eval in c:\\users\\rajsh\\appdata\\roaming\\python\\python39\\site-packages (from stack-data->ipython->nb_black) (0.2.2)\n",
      "Requirement already satisfied: six in c:\\users\\rajsh\\appdata\\roaming\\python\\python39\\site-packages (from asttokens->stack-data->ipython->nb_black) (1.16.0)\n",
      "Note: you may need to restart the kernel to use updated packages.\n"
     ]
    },
    {
     "name": "stderr",
     "output_type": "stream",
     "text": [
      "WARNING: Ignoring invalid distribution -cikit-learn (c:\\programdata\\anaconda3\\lib\\site-packages)\n",
      "WARNING: Ignoring invalid distribution -cikit-learn (c:\\programdata\\anaconda3\\lib\\site-packages)\n",
      "WARNING: Ignoring invalid distribution -cikit-learn (c:\\programdata\\anaconda3\\lib\\site-packages)\n",
      "WARNING: Ignoring invalid distribution -cikit-learn (c:\\programdata\\anaconda3\\lib\\site-packages)\n",
      "WARNING: You are using pip version 22.0.3; however, version 22.2.2 is available.\n",
      "You should consider upgrading via the 'C:\\ProgramData\\Anaconda3\\python.exe -m pip install --upgrade pip' command.\n"
     ]
    }
   ],
   "source": [
    "pip install nb_black"
   ]
  },
  {
   "cell_type": "code",
   "execution_count": 6,
   "id": "c53aaa00",
   "metadata": {},
   "outputs": [
    {
     "data": {
      "application/javascript": [
       "\n",
       "            setTimeout(function() {\n",
       "                var nbb_cell_id = 6;\n",
       "                var nbb_unformatted_code = \"%load_ext nb_black\";\n",
       "                var nbb_formatted_code = \"%load_ext nb_black\";\n",
       "                var nbb_cells = Jupyter.notebook.get_cells();\n",
       "                for (var i = 0; i < nbb_cells.length; ++i) {\n",
       "                    if (nbb_cells[i].input_prompt_number == nbb_cell_id) {\n",
       "                        if (nbb_cells[i].get_text() == nbb_unformatted_code) {\n",
       "                             nbb_cells[i].set_text(nbb_formatted_code);\n",
       "                        }\n",
       "                        break;\n",
       "                    }\n",
       "                }\n",
       "            }, 500);\n",
       "            "
      ],
      "text/plain": [
       "<IPython.core.display.Javascript object>"
      ]
     },
     "metadata": {},
     "output_type": "display_data"
    }
   ],
   "source": [
    "%load_ext nb_black"
   ]
  },
  {
   "cell_type": "code",
   "execution_count": 7,
   "id": "34cca177",
   "metadata": {},
   "outputs": [
    {
     "data": {
      "application/javascript": [
       "\n",
       "            setTimeout(function() {\n",
       "                var nbb_cell_id = 7;\n",
       "                var nbb_unformatted_code = \"d = {\\\"a\\\" : 1, \\\"b\\\":2,\\n'c' : \\\"nikhil\\\"} \";\n",
       "                var nbb_formatted_code = \"d = {\\\"a\\\": 1, \\\"b\\\": 2, \\\"c\\\": \\\"nikhil\\\"}\";\n",
       "                var nbb_cells = Jupyter.notebook.get_cells();\n",
       "                for (var i = 0; i < nbb_cells.length; ++i) {\n",
       "                    if (nbb_cells[i].input_prompt_number == nbb_cell_id) {\n",
       "                        if (nbb_cells[i].get_text() == nbb_unformatted_code) {\n",
       "                             nbb_cells[i].set_text(nbb_formatted_code);\n",
       "                        }\n",
       "                        break;\n",
       "                    }\n",
       "                }\n",
       "            }, 500);\n",
       "            "
      ],
      "text/plain": [
       "<IPython.core.display.Javascript object>"
      ]
     },
     "metadata": {},
     "output_type": "display_data"
    }
   ],
   "source": [
    "d = {\"a\": 1, \"b\": 2, \"c\": \"nikhil\"}"
   ]
  },
  {
   "cell_type": "code",
   "execution_count": 10,
   "id": "bb90f129",
   "metadata": {},
   "outputs": [
    {
     "name": "stdout",
     "output_type": "stream",
     "text": [
      "20\n"
     ]
    },
    {
     "data": {
      "application/javascript": [
       "\n",
       "            setTimeout(function() {\n",
       "                var nbb_cell_id = 10;\n",
       "                var nbb_unformatted_code = \"a=10\\nb=20\\nif(a==b):\\n    print(a)\\nelse:\\n    print(b)\";\n",
       "                var nbb_formatted_code = \"a = 10\\nb = 20\\nif a == b:\\n    print(a)\\nelse:\\n    print(b)\";\n",
       "                var nbb_cells = Jupyter.notebook.get_cells();\n",
       "                for (var i = 0; i < nbb_cells.length; ++i) {\n",
       "                    if (nbb_cells[i].input_prompt_number == nbb_cell_id) {\n",
       "                        if (nbb_cells[i].get_text() == nbb_unformatted_code) {\n",
       "                             nbb_cells[i].set_text(nbb_formatted_code);\n",
       "                        }\n",
       "                        break;\n",
       "                    }\n",
       "                }\n",
       "            }, 500);\n",
       "            "
      ],
      "text/plain": [
       "<IPython.core.display.Javascript object>"
      ]
     },
     "metadata": {},
     "output_type": "display_data"
    }
   ],
   "source": [
    "a = 10\n",
    "b = 20\n",
    "if a == b:\n",
    "    print(a)\n",
    "else:\n",
    "    print(b)"
   ]
  },
  {
   "cell_type": "markdown",
   "id": "ffe1e917",
   "metadata": {},
   "source": [
    "## My Test\n",
    "here is *some*  where is problem **buddy**\n",
    "### Test\n",
    "1. test 1\n",
    "* test 2\n",
    "2. Test 3"
   ]
  },
  {
   "cell_type": "markdown",
   "id": "66874fed",
   "metadata": {},
   "source": [
    "## Heading Two\n",
    "\n",
    "### Heading Three\n",
    "\n",
    "#### Heading Four"
   ]
  },
  {
   "cell_type": "markdown",
   "id": "39d28504",
   "metadata": {},
   "source": [
    "`Here is some code!`"
   ]
  },
  {
   "cell_type": "markdown",
   "id": "04ca8332",
   "metadata": {},
   "source": [
    "***\n",
    "here is some code !\n",
    "***"
   ]
  },
  {
   "cell_type": "markdown",
   "id": "eb69eb0b",
   "metadata": {},
   "source": [
    "<a href=\"https://www.earthdatascience.org/courses/intro-to-earth-data-science/file-formats/use-text-files/format-text-with-markdown-jupyter-notebook/\" target=\"_blank\">Learn more about juypter notebook</a>"
   ]
  },
  {
   "cell_type": "markdown",
   "id": "281fad23",
   "metadata": {},
   "source": [
    "<!-- ![Markdown Logo is here.](https://www.fullstackpython.com/img/logos/markdown.png) -->\n",
    "![Markdown Logo is here.](https://www.fullstackpython.com/img/logos/markdown.png)"
   ]
  },
  {
   "cell_type": "markdown",
   "id": "e06cbc86",
   "metadata": {},
   "source": [
    "__i'm bold line__\n",
    "\n",
    "_i'm Italics_\n"
   ]
  },
  {
   "cell_type": "markdown",
   "id": "97c76b0e",
   "metadata": {},
   "source": [
    "test<br> in <br> some data<br> for testing\n",
    "\n",
    "\n",
    "in color\n",
    "\n",
    "<font color=red> hey Buddy ! <br> how are you </font>"
   ]
  },
  {
   "cell_type": "markdown",
   "id": "30b523db",
   "metadata": {},
   "source": [
    "> this is indented text\n",
    "\n",
    "this is not"
   ]
  },
  {
   "cell_type": "markdown",
   "id": "296c2934",
   "metadata": {},
   "source": [
    "Mathematical symbols $>$\n",
    "\n",
    "$x = x + y$"
   ]
  },
  {
   "cell_type": "code",
   "execution_count": 19,
   "id": "bd496124",
   "metadata": {},
   "outputs": [
    {
     "data": {
      "text/html": [
       "\n",
       "        <iframe\n",
       "            width=\"800\"\n",
       "            height=\"450\"\n",
       "            src=\"https://krishnaik.in/contact-us/\"\n",
       "            frameborder=\"0\"\n",
       "            allowfullscreen\n",
       "            \n",
       "        ></iframe>\n",
       "        "
      ],
      "text/plain": [
       "<IPython.lib.display.IFrame at 0x2db59668ee0>"
      ]
     },
     "execution_count": 19,
     "metadata": {},
     "output_type": "execute_result"
    },
    {
     "data": {
      "application/javascript": [
       "\n",
       "            setTimeout(function() {\n",
       "                var nbb_cell_id = 19;\n",
       "                var nbb_unformatted_code = \"from IPython.display import IFrame\\n\\nIFrame(\\\"https://krishnaik.in/contact-us/\\\", width=800, height=450)\";\n",
       "                var nbb_formatted_code = \"from IPython.display import IFrame\\n\\nIFrame(\\\"https://krishnaik.in/contact-us/\\\", width=800, height=450)\";\n",
       "                var nbb_cells = Jupyter.notebook.get_cells();\n",
       "                for (var i = 0; i < nbb_cells.length; ++i) {\n",
       "                    if (nbb_cells[i].input_prompt_number == nbb_cell_id) {\n",
       "                        if (nbb_cells[i].get_text() == nbb_unformatted_code) {\n",
       "                             nbb_cells[i].set_text(nbb_formatted_code);\n",
       "                        }\n",
       "                        break;\n",
       "                    }\n",
       "                }\n",
       "            }, 500);\n",
       "            "
      ],
      "text/plain": [
       "<IPython.core.display.Javascript object>"
      ]
     },
     "metadata": {},
     "output_type": "display_data"
    }
   ],
   "source": [
    "from IPython.display import IFrame\n",
    "\n",
    "IFrame(\"https://krishnaik.in/contact-us/\", width=800, height=450)"
   ]
  },
  {
   "cell_type": "code",
   "execution_count": 20,
   "id": "a02b8863",
   "metadata": {},
   "outputs": [
    {
     "data": {
      "text/html": [
       "\n",
       "        <iframe\n",
       "            width=\"800\"\n",
       "            height=\"450\"\n",
       "            src=\"https://www.w3.ord/WAI/ER/tests/xhtml/testfiles/resources/pdf/dummy.pdf\"\n",
       "            frameborder=\"0\"\n",
       "            allowfullscreen\n",
       "            \n",
       "        ></iframe>\n",
       "        "
      ],
      "text/plain": [
       "<IPython.lib.display.IFrame at 0x2db58046670>"
      ]
     },
     "execution_count": 20,
     "metadata": {},
     "output_type": "execute_result"
    },
    {
     "data": {
      "application/javascript": [
       "\n",
       "            setTimeout(function() {\n",
       "                var nbb_cell_id = 20;\n",
       "                var nbb_unformatted_code = \"#PDF\\nfrom IPython.display import IFrame\\nIFrame('https://www.w3.ord/WAI/ER/tests/xhtml/testfiles/resources/pdf/dummy.pdf', width = 800, height = 450)\";\n",
       "                var nbb_formatted_code = \"# PDF\\nfrom IPython.display import IFrame\\n\\nIFrame(\\n    \\\"https://www.w3.ord/WAI/ER/tests/xhtml/testfiles/resources/pdf/dummy.pdf\\\",\\n    width=800,\\n    height=450,\\n)\";\n",
       "                var nbb_cells = Jupyter.notebook.get_cells();\n",
       "                for (var i = 0; i < nbb_cells.length; ++i) {\n",
       "                    if (nbb_cells[i].input_prompt_number == nbb_cell_id) {\n",
       "                        if (nbb_cells[i].get_text() == nbb_unformatted_code) {\n",
       "                             nbb_cells[i].set_text(nbb_formatted_code);\n",
       "                        }\n",
       "                        break;\n",
       "                    }\n",
       "                }\n",
       "            }, 500);\n",
       "            "
      ],
      "text/plain": [
       "<IPython.core.display.Javascript object>"
      ]
     },
     "metadata": {},
     "output_type": "display_data"
    }
   ],
   "source": [
    "# PDF\n",
    "from IPython.display import IFrame\n",
    "\n",
    "IFrame(\n",
    "    \"https://www.w3.ord/WAI/ER/tests/xhtml/testfiles/resources/pdf/dummy.pdf\",\n",
    "    width=800,\n",
    "    height=450,\n",
    ")"
   ]
  },
  {
   "cell_type": "code",
   "execution_count": 22,
   "id": "4aadb370",
   "metadata": {},
   "outputs": [
    {
     "data": {
      "image/jpeg": "[encoded data removed]",
      "text/html": [
       "\n",
       "        <iframe\n",
       "            width=\"800\"\n",
       "            height=\"500\"\n",
       "            src=\"https://www.youtube.com/embed/PAkG03-PRew\"\n",
       "            frameborder=\"0\"\n",
       "            allowfullscreen\n",
       "            \n",
       "        ></iframe>\n",
       "        "
      ],
      "text/plain": [
       "<IPython.lib.display.YouTubeVideo at 0x2db59670730>"
      ]
     },
     "execution_count": 22,
     "metadata": {},
     "output_type": "execute_result"
    },
    {
     "data": {
      "application/javascript": [
       "\n",
       "            setTimeout(function() {\n",
       "                var nbb_cell_id = 22;\n",
       "                var nbb_unformatted_code = \"# video\\nfrom IPython.display import YouTubeVideo\\n\\nYouTubeVideo(\\\"PAkG03-PRew\\\", width=800, height=500)\";\n",
       "                var nbb_formatted_code = \"# video\\nfrom IPython.display import YouTubeVideo\\n\\nYouTubeVideo(\\\"PAkG03-PRew\\\", width=800, height=500)\";\n",
       "                var nbb_cells = Jupyter.notebook.get_cells();\n",
       "                for (var i = 0; i < nbb_cells.length; ++i) {\n",
       "                    if (nbb_cells[i].input_prompt_number == nbb_cell_id) {\n",
       "                        if (nbb_cells[i].get_text() == nbb_unformatted_code) {\n",
       "                             nbb_cells[i].set_text(nbb_formatted_code);\n",
       "                        }\n",
       "                        break;\n",
       "                    }\n",
       "                }\n",
       "            }, 500);\n",
       "            "
      ],
      "text/plain": [
       "<IPython.core.display.Javascript object>"
      ]
     },
     "metadata": {},
     "output_type": "display_data"
    }
   ],
   "source": [
    "# video\n",
    "from IPython.display import YouTubeVideo\n",
    "\n",
    "YouTubeVideo(\"PAkG03-PRew\", width=800, height=500)"
   ]
  },
  {
   "cell_type": "code",
   "execution_count": null,
   "id": "e5ff1d4e",
   "metadata": {},
   "outputs": [],
   "source": []
  }
 ],
 "metadata": {
  "kernelspec": {
   "display_name": "Python 3 (ipykernel)",
   "language": "python",
   "name": "python3"
  },
  "language_info": {
   "codemirror_mode": {
    "name": "ipython",
    "version": 3
   },
   "file_extension": ".py",
   "mimetype": "text/x-python",
   "name": "python",
   "nbconvert_exporter": "python",
   "pygments_lexer": "ipython3",
   "version": "3.9.7"
  }
 },
 "nbformat": 4,
 "nbformat_minor": 5
}
